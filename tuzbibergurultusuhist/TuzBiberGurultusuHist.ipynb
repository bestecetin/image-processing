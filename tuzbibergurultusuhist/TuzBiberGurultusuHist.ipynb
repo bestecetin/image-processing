{
 "cells": [
  {
   "cell_type": "code",
   "execution_count": 1,
   "id": "7d071eb1",
   "metadata": {},
   "outputs": [],
   "source": [
    "import random\n",
    "import numpy as np\n",
    "import pathlib\n",
    "import cv2\n",
    "from pathlib import Path\n",
    "from matplotlib import pyplot as plt"
   ]
  },
  {
   "cell_type": "code",
   "execution_count": 2,
   "id": "47f6cd0f",
   "metadata": {},
   "outputs": [],
   "source": [
    "path = str(Path(pathlib.Path().absolute()).parents[0])\n",
    "path+=\"/tuzbibergurultusuhist\""
   ]
  },
  {
   "cell_type": "code",
   "execution_count": 3,
   "id": "922354ab",
   "metadata": {},
   "outputs": [],
   "source": [
    "def add_noise(image):\n",
    "\n",
    "    row, col = image.shape #image'in shape'ini aldik\n",
    "\n",
    "    # 300 ile 1000 arasinda random bir sayi secilecek bunlar pikselleri beyaza boyamak icin kullanilacak\n",
    "    number_of_pixels = random.randint(300, 10000)\n",
    "    for i in range(number_of_pixels):\n",
    "        # y koordinat icin sayi\n",
    "        y_coord = random.randint(0, row - 1)\n",
    "\n",
    "        # x koordinat icin random sayi\n",
    "        x_coord = random.randint(0, col - 1)\n",
    "\n",
    "        # pikseli beyeza boyama kismi\n",
    "        image[y_coord][x_coord] = 255\n",
    "\n",
    "  # 300 ile 1000 arasinda random bir sayi secilecek bunlar pikselleri siyaha boyamak icin kullanilacak\n",
    "    number_of_pixels = random.randint(300, 10000)\n",
    "    for i in range(number_of_pixels):\n",
    "        # y koordinat icin sayi\n",
    "        y_coord = random.randint(0, row - 1)\n",
    "\n",
    "        # x koordinat icin random sayi\n",
    "        x_coord = random.randint(0, col - 1)\n",
    "\n",
    "        # pikseli siyaha boyama kismi\n",
    "        image[y_coord][x_coord] = 0\n",
    "\n",
    "    return image"
   ]
  },
  {
   "cell_type": "code",
   "execution_count": 4,
   "id": "3eba71ac",
   "metadata": {},
   "outputs": [
    {
     "data": {
      "text/plain": [
       "-1"
      ]
     },
     "execution_count": 4,
     "metadata": {},
     "output_type": "execute_result"
    }
   ],
   "source": [
    "image = cv2.imread(path+'/foto.png',cv2.IMREAD_GRAYSCALE) #0\n",
    "cv2.imshow('Orijinal',image)\n",
    "cv2.waitKey(0)\n",
    "cv2.destroyAllWindows()\n",
    "cv2.waitKey(1)\n",
    "#siyah beyaz oldu fotogray cunku gray scale"
   ]
  },
  {
   "cell_type": "code",
   "execution_count": 5,
   "id": "71513073",
   "metadata": {},
   "outputs": [
    {
     "data": {
      "image/png": "[encoded data removed]",
      "text/plain": [
       "<Figure size 432x288 with 1 Axes>"
      ]
     },
     "metadata": {
      "needs_background": "light"
     },
     "output_type": "display_data"
    }
   ],
   "source": [
    "hist,bins = np.histogram(image.flatten(),256,[0,256])\n",
    "cdf = hist.cumsum()\n",
    "cdf_normalized = cdf * float(hist.max()) / cdf.max()\n",
    "plt.plot(cdf_normalized, color = 'b')\n",
    "plt.hist(image.flatten(),256,[0,256], color = 'b')\n",
    "plt.xlim([0,256])\n",
    "plt.legend(('cdf','histogram'), loc = 'upper left')\n",
    "plt.show()"
   ]
  },
  {
   "cell_type": "code",
   "execution_count": 6,
   "id": "ac7de747",
   "metadata": {},
   "outputs": [
    {
     "data": {
      "text/plain": [
       "-1"
      ]
     },
     "execution_count": 6,
     "metadata": {},
     "output_type": "execute_result"
    }
   ],
   "source": [
    "salt_and_pepper_image=add_noise(image)\n",
    "cv2.imshow('Salt and Pepper',salt_and_pepper_image)\n",
    "cv2.waitKey(0)\n",
    "cv2.destroyAllWindows()\n",
    "cv2.waitKey(1)\n",
    "#salt paper gurultusu eklendi"
   ]
  },
  {
   "cell_type": "code",
   "execution_count": 7,
   "id": "9d934c09",
   "metadata": {},
   "outputs": [
    {
     "data": {
      "image/png": "[encoded data removed]",
      "text/plain": [
       "<Figure size 432x288 with 1 Axes>"
      ]
     },
     "metadata": {
      "needs_background": "light"
     },
     "output_type": "display_data"
    }
   ],
   "source": [
    "hist,bins = np.histogram(salt_and_pepper_image.flatten(),256,[0,256])\n",
    "cdf = hist.cumsum()\n",
    "cdf_normalized = cdf * float(hist.max()) / cdf.max()\n",
    "plt.plot(cdf_normalized, color = 'b')\n",
    "plt.hist(salt_and_pepper_image.flatten(),256,[0,256], color = 'b')\n",
    "plt.xlim([0,256])\n",
    "plt.legend(('cdf','histogram'), loc = 'upper left')\n",
    "plt.show()"
   ]
  }
 ],
 "metadata": {
  "kernelspec": {
   "display_name": "Python 3 (ipykernel)",
   "language": "python",
   "name": "python3"
  },
  "language_info": {
   "codemirror_mode": {
    "name": "ipython",
    "version": 3
   },
   "file_extension": ".py",
   "mimetype": "text/x-python",
   "name": "python",
   "nbconvert_exporter": "python",
   "pygments_lexer": "ipython3",
   "version": "3.9.7"
  }
 },
 "nbformat": 4,
 "nbformat_minor": 5
}
