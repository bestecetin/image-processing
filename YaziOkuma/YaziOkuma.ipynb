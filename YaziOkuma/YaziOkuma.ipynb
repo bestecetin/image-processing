{
 "cells": [
  {
   "cell_type": "code",
   "execution_count": 35,
   "id": "0f74a825",
   "metadata": {},
   "outputs": [],
   "source": [
    "import cv2\n",
    "import numpy as np\n",
    "import pathlib\n",
    "from pathlib import Path"
   ]
  },
  {
   "cell_type": "code",
   "execution_count": 36,
   "id": "5600a8e0",
   "metadata": {},
   "outputs": [],
   "source": [
    "path = str(Path(pathlib.Path().absolute()).parents[0])\n",
    "path+=\"/YaziOkuma\""
   ]
  },
  {
   "cell_type": "code",
   "execution_count": 37,
   "id": "99526542",
   "metadata": {},
   "outputs": [],
   "source": [
    "image = cv2.imread(path+'/foto.png') #resim okundu"
   ]
  },
  {
   "cell_type": "code",
   "execution_count": 38,
   "id": "bc1aacdf",
   "metadata": {},
   "outputs": [],
   "source": [
    "gray = cv2.cvtColor(image, cv2.COLOR_BGR2GRAY) #goruntu grayscale'e cevirdik"
   ]
  },
  {
   "cell_type": "code",
   "execution_count": 42,
   "id": "ca343e1d",
   "metadata": {},
   "outputs": [],
   "source": [
    "edges = cv2.Canny(gray, 50, 150, apertureSize = 3)"
   ]
  },
  {
   "cell_type": "code",
   "execution_count": 44,
   "id": "e905a459",
   "metadata": {},
   "outputs": [
    {
     "data": {
      "text/plain": [
       "-1"
      ]
     },
     "execution_count": 44,
     "metadata": {},
     "output_type": "execute_result"
    }
   ],
   "source": [
    "cv2.imshow('Orijinal',image)\n",
    "cv2.imshow('Edges', edges)\n",
    "cv2.waitKey(0)\n",
    "cv2.destroyAllWindows()\n",
    "cv2.waitKey(1)"
   ]
  },
  {
   "cell_type": "code",
   "execution_count": null,
   "id": "43dfee9f",
   "metadata": {},
   "outputs": [],
   "source": []
  }
 ],
 "metadata": {
  "kernelspec": {
   "display_name": "Python 3 (ipykernel)",
   "language": "python",
   "name": "python3"
  },
  "language_info": {
   "codemirror_mode": {
    "name": "ipython",
    "version": 3
   },
   "file_extension": ".py",
   "mimetype": "text/x-python",
   "name": "python",
   "nbconvert_exporter": "python",
   "pygments_lexer": "ipython3",
   "version": "3.9.7"
  }
 },
 "nbformat": 4,
 "nbformat_minor": 5
}
