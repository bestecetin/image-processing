{
 "cells": [
  {
   "cell_type": "code",
   "execution_count": 1,
   "id": "408a1f8b",
   "metadata": {},
   "outputs": [],
   "source": [
    "from scipy import ndimage\n",
    "import numpy as np\n",
    "import pathlib\n",
    "import cv2\n",
    "from pathlib import Path"
   ]
  },
  {
   "cell_type": "code",
   "execution_count": 2,
   "id": "3f009d05",
   "metadata": {},
   "outputs": [],
   "source": [
    "path = str(Path(pathlib.Path().absolute()).parents[0])\n",
    "path+=\"/Robert\""
   ]
  },
  {
   "cell_type": "code",
   "execution_count": 3,
   "id": "429d9ad0",
   "metadata": {},
   "outputs": [],
   "source": [
    "image_robert_x = np.array( [[1, 0 ], [0,-1 ]] )\n",
    "\n",
    "image_robert_y = np.array( [[ 0, 1 ], [ -1, 0 ]] )"
   ]
  },
  {
   "cell_type": "code",
   "execution_count": 5,
   "id": "f4e1702d",
   "metadata": {},
   "outputs": [],
   "source": [
    "image = cv2.imread(path+'/foto.png',cv2.IMREAD_GRAYSCALE)"
   ]
  },
  {
   "cell_type": "code",
   "execution_count": 6,
   "id": "839ae3ec",
   "metadata": {},
   "outputs": [],
   "source": [
    "image_c = image.astype('float64')\n",
    "image_c = image_c / 255 # rescale\n",
    "\n",
    "image_c/=255.0\n",
    "\n",
    "vertical = ndimage.convolve( image_c, image_robert_x )\n",
    "horizontal = ndimage.convolve( image_c, image_robert_y )\n",
    "\n",
    "image_robert = np.sqrt( np.square(horizontal) + np.square(vertical))\n",
    "image_robert*=255"
   ]
  },
  {
   "cell_type": "code",
   "execution_count": 7,
   "id": "25b65ad2",
   "metadata": {},
   "outputs": [
    {
     "data": {
      "text/plain": [
       "-1"
      ]
     },
     "execution_count": 7,
     "metadata": {},
     "output_type": "execute_result"
    }
   ],
   "source": [
    "cv2.imshow('Orijinal', image)\n",
    "cv2.waitKey(0)\n",
    "cv2.destroyAllWindows()\n",
    "cv2.waitKey(1)"
   ]
  },
  {
   "cell_type": "code",
   "execution_count": 8,
   "id": "7e3f1431",
   "metadata": {},
   "outputs": [
    {
     "data": {
      "text/plain": [
       "-1"
      ]
     },
     "execution_count": 8,
     "metadata": {},
     "output_type": "execute_result"
    }
   ],
   "source": [
    "cv2.imshow('Robert', image_robert)\n",
    "cv2.waitKey(0)\n",
    "cv2.destroyAllWindows()\n",
    "cv2.waitKey(1)"
   ]
  },
  {
   "cell_type": "code",
   "execution_count": null,
   "id": "e882746c",
   "metadata": {},
   "outputs": [],
   "source": []
  }
 ],
 "metadata": {
  "kernelspec": {
   "display_name": "Python 3 (ipykernel)",
   "language": "python",
   "name": "python3"
  },
  "language_info": {
   "codemirror_mode": {
    "name": "ipython",
    "version": 3
   },
   "file_extension": ".py",
   "mimetype": "text/x-python",
   "name": "python",
   "nbconvert_exporter": "python",
   "pygments_lexer": "ipython3",
   "version": "3.9.7"
  }
 },
 "nbformat": 4,
 "nbformat_minor": 5
}
