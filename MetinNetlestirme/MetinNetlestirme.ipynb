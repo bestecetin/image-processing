{
 "cells": [
  {
   "cell_type": "code",
   "execution_count": 1,
   "id": "7e3c985d",
   "metadata": {},
   "outputs": [],
   "source": [
    "import pathlib\n",
    "from pathlib import Path\n",
    "import cv2\n",
    "import numpy as np"
   ]
  },
  {
   "cell_type": "code",
   "execution_count": 2,
   "id": "f93684ab",
   "metadata": {},
   "outputs": [],
   "source": [
    "path = str(Path(pathlib.Path().absolute()).parents[0])\n",
    "path+=\"/MetinNetlestirme\""
   ]
  },
  {
   "cell_type": "code",
   "execution_count": 3,
   "id": "8d4b610f",
   "metadata": {},
   "outputs": [],
   "source": [
    "image = cv2.imread(path+'/foto.jpeg', cv2.IMREAD_GRAYSCALE)"
   ]
  },
  {
   "cell_type": "code",
   "execution_count": 4,
   "id": "4f811120",
   "metadata": {},
   "outputs": [],
   "source": [
    "image = image.astype(np.float32)\n",
    "image = image / 255 # normalizasyon (0-1 arasina cevrildi)\n",
    "image = 1 - image # tersine cevirme (negatif alindi)"
   ]
  },
  {
   "cell_type": "code",
   "execution_count": 5,
   "id": "1a4ae434",
   "metadata": {},
   "outputs": [],
   "source": [
    "kernell = np.ones((5,5))"
   ]
  },
  {
   "cell_type": "code",
   "execution_count": 6,
   "id": "206ab6bf",
   "metadata": {},
   "outputs": [],
   "source": [
    "dilated = cv2.dilate(image, kernel=kernell)\n",
    "\n",
    "textmask = (dilated >= 0.15) #arka planı degil resimi algilamasi icin esik degeri\n",
    "\n",
    "enhanced = image / dilated\n"
   ]
  },
  {
   "cell_type": "code",
   "execution_count": 7,
   "id": "93c55567",
   "metadata": {},
   "outputs": [],
   "source": [
    "enhanced[~textmask] = image[~textmask]"
   ]
  },
  {
   "cell_type": "code",
   "execution_count": 8,
   "id": "75d5c221",
   "metadata": {},
   "outputs": [],
   "source": [
    "output = 1 - enhanced"
   ]
  },
  {
   "cell_type": "code",
   "execution_count": 9,
   "id": "6928a53b",
   "metadata": {},
   "outputs": [
    {
     "data": {
      "text/plain": [
       "-1"
      ]
     },
     "execution_count": 9,
     "metadata": {},
     "output_type": "execute_result"
    }
   ],
   "source": [
    "cv2.imshow('Orijinal Metin', image) #grayscale\n",
    "cv2.waitKey(0)\n",
    "cv2.destroyAllWindows()\n",
    "cv2.waitKey(1)"
   ]
  },
  {
   "cell_type": "code",
   "execution_count": null,
   "id": "8d58417b",
   "metadata": {},
   "outputs": [],
   "source": [
    "cv2.imshow('Netlesmis Metin', output)\n",
    "cv2.waitKey(0)\n",
    "cv2.destroyAllWindows()\n",
    "cv2.waitKey(1)"
   ]
  }
 ],
 "metadata": {
  "kernelspec": {
   "display_name": "Python 3 (ipykernel)",
   "language": "python",
   "name": "python3"
  },
  "language_info": {
   "codemirror_mode": {
    "name": "ipython",
    "version": 3
   },
   "file_extension": ".py",
   "mimetype": "text/x-python",
   "name": "python",
   "nbconvert_exporter": "python",
   "pygments_lexer": "ipython3",
   "version": "3.9.7"
  }
 },
 "nbformat": 4,
 "nbformat_minor": 5
}
