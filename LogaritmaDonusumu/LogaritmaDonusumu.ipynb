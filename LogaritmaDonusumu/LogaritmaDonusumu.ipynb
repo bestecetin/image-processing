{
 "cells": [
  {
   "cell_type": "code",
   "execution_count": 1,
   "id": "b986ddd0",
   "metadata": {},
   "outputs": [],
   "source": [
    "import numpy as np\n",
    "from pathlib import Path\n",
    "import pathlib\n",
    "import cv2"
   ]
  },
  {
   "cell_type": "code",
   "execution_count": 4,
   "id": "0b76b14b",
   "metadata": {},
   "outputs": [],
   "source": [
    "path = str(Path(pathlib.Path().absolute()).parents[0])\n",
    "path+=\"/LogaritmaDonusumu\""
   ]
  },
  {
   "cell_type": "code",
   "execution_count": 6,
   "id": "91e42be7",
   "metadata": {},
   "outputs": [],
   "source": [
    "image = cv2.imread(path+'/foto.jpeg')"
   ]
  },
  {
   "cell_type": "code",
   "execution_count": 7,
   "id": "9e6d3e04",
   "metadata": {},
   "outputs": [
    {
     "name": "stderr",
     "output_type": "stream",
     "text": [
      "/var/folders/pc/gs0lq1w52r16_wgx9vm4wxhm0000gn/T/ipykernel_22965/2279597873.py:2: RuntimeWarning: divide by zero encountered in log\n",
      "  log_image = c * (np.log(image + 1))\n"
     ]
    }
   ],
   "source": [
    "c = 255 / np.log(1 + np.max(image))\n",
    "log_image = c * (np.log(image + 1))"
   ]
  },
  {
   "cell_type": "code",
   "execution_count": 8,
   "id": "9a73a30f",
   "metadata": {},
   "outputs": [],
   "source": [
    "log_image = np.array(log_image, dtype=np.uint8)"
   ]
  },
  {
   "cell_type": "code",
   "execution_count": 12,
   "id": "02c3ac6a",
   "metadata": {},
   "outputs": [
    {
     "data": {
      "text/plain": [
       "-1"
      ]
     },
     "execution_count": 12,
     "metadata": {},
     "output_type": "execute_result"
    }
   ],
   "source": [
    "cv2.imshow('Orijinal', image)\n",
    "cv2.waitKey(0)\n",
    "cv2.destroyAllWindows()\n",
    "cv2.waitKey(1)"
   ]
  },
  {
   "cell_type": "code",
   "execution_count": 13,
   "id": "18e64ca1",
   "metadata": {},
   "outputs": [
    {
     "data": {
      "text/plain": [
       "-1"
      ]
     },
     "execution_count": 13,
     "metadata": {},
     "output_type": "execute_result"
    }
   ],
   "source": [
    "cv2.imshow('Log Donusumu', log_image)\n",
    "cv2.waitKey(0)\n",
    "cv2.destroyAllWindows()\n",
    "cv2.waitKey(1)"
   ]
  },
  {
   "cell_type": "markdown",
   "id": "40cbbbb6",
   "metadata": {},
   "source": [
    "- **logaritma donusumu:*** Girişteki düşük yeğinlik değerlerinin dar bir aralığını daha geniş bir çıkış seviyesi aralığına aktarır.\n",
    "- s= clog(1+r)\n",
    "- Logaritma Dönüşümü\n",
    "- c bir sabittir ve\n",
    "- r>=0’dır."
   ]
  }
 ],
 "metadata": {
  "kernelspec": {
   "display_name": "Python 3 (ipykernel)",
   "language": "python",
   "name": "python3"
  },
  "language_info": {
   "codemirror_mode": {
    "name": "ipython",
    "version": 3
   },
   "file_extension": ".py",
   "mimetype": "text/x-python",
   "name": "python",
   "nbconvert_exporter": "python",
   "pygments_lexer": "ipython3",
   "version": "3.9.7"
  }
 },
 "nbformat": 4,
 "nbformat_minor": 5
}
