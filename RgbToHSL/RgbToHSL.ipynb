{
 "cells": [
  {
   "cell_type": "code",
   "execution_count": 1,
   "id": "dc353b4d",
   "metadata": {},
   "outputs": [],
   "source": [
    "import pathlib\n",
    "from pathlib import Path\n",
    "import cv2"
   ]
  },
  {
   "cell_type": "code",
   "execution_count": 2,
   "id": "e293cc6e",
   "metadata": {},
   "outputs": [],
   "source": [
    "path = str(Path(pathlib.Path().absolute()).parents[0])\n",
    "path+=\"/RgbToHSL\""
   ]
  },
  {
   "cell_type": "code",
   "execution_count": 8,
   "id": "1695e1b8",
   "metadata": {},
   "outputs": [],
   "source": [
    "# BGR format olarak RGB okuma\n",
    "bgr_img = cv2.imread(path+'/foto.png')\n",
    "# BGR image'i HSV Image'e donusturme\n",
    "hsv_img = cv2.cvtColor(bgr_img, cv2.COLOR_BGR2HSV)"
   ]
  },
  {
   "cell_type": "code",
   "execution_count": 9,
   "id": "c4993597",
   "metadata": {},
   "outputs": [
    {
     "data": {
      "text/plain": [
       "-1"
      ]
     },
     "execution_count": 9,
     "metadata": {},
     "output_type": "execute_result"
    }
   ],
   "source": [
    "# HSV image'i gosterme\n",
    "cv2.imshow('BGR image', bgr_img)\n",
    "cv2.imshow('HSV image', hsv_img)\n",
    "cv2.waitKey(0)\n",
    "cv2.destroyAllWindows()\n",
    "cv2.waitKey(1)"
   ]
  }
 ],
 "metadata": {
  "kernelspec": {
   "display_name": "Python 3 (ipykernel)",
   "language": "python",
   "name": "python3"
  },
  "language_info": {
   "codemirror_mode": {
    "name": "ipython",
    "version": 3
   },
   "file_extension": ".py",
   "mimetype": "text/x-python",
   "name": "python",
   "nbconvert_exporter": "python",
   "pygments_lexer": "ipython3",
   "version": "3.9.7"
  }
 },
 "nbformat": 4,
 "nbformat_minor": 5
}
