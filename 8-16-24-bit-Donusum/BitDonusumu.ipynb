{
 "cells": [
  {
   "cell_type": "code",
   "execution_count": 1,
   "id": "62b30498",
   "metadata": {},
   "outputs": [],
   "source": [
    "import numpy as np\n",
    "from pathlib import Path\n",
    "import pathlib\n",
    "import cv2"
   ]
  },
  {
   "cell_type": "code",
   "execution_count": 2,
   "id": "9f0ec621",
   "metadata": {},
   "outputs": [],
   "source": [
    "path = str(Path(pathlib.Path().absolute()).parents[0])\n",
    "path+=\"/8-16-24-bit-Donusum\""
   ]
  },
  {
   "cell_type": "code",
   "execution_count": 3,
   "id": "b55222be",
   "metadata": {},
   "outputs": [],
   "source": [
    "image = cv2.imread(path+'/foto.png',cv2.IMREAD_GRAYSCALE) "
   ]
  },
  {
   "cell_type": "code",
   "execution_count": 4,
   "id": "a37648e0",
   "metadata": {},
   "outputs": [],
   "source": [
    "height, width = image.shape[:2]"
   ]
  },
  {
   "cell_type": "code",
   "execution_count": 8,
   "id": "0465244f",
   "metadata": {},
   "outputs": [
    {
     "data": {
      "text/plain": [
       "(512, 512)"
      ]
     },
     "execution_count": 8,
     "metadata": {},
     "output_type": "execute_result"
    }
   ],
   "source": [
    "image.shape[:2]"
   ]
  },
  {
   "cell_type": "code",
   "execution_count": 9,
   "id": "cd1f08c5",
   "metadata": {},
   "outputs": [],
   "source": [
    "w, h = (256, 256)"
   ]
  },
  {
   "cell_type": "code",
   "execution_count": 10,
   "id": "82bbaa6d",
   "metadata": {},
   "outputs": [],
   "source": [
    "img = cv2.resize(image, (w, h), interpolation=cv2.INTER_LINEAR)"
   ]
  },
  {
   "cell_type": "code",
   "execution_count": 11,
   "id": "cb92b272",
   "metadata": {},
   "outputs": [],
   "source": [
    "img8 = cv2.resize(img, (width, height), interpolation=cv2.INTER_NEAREST)\n",
    "img16 = np.uint16(img8)*256"
   ]
  },
  {
   "cell_type": "code",
   "execution_count": 12,
   "id": "51db9357",
   "metadata": {},
   "outputs": [
    {
     "data": {
      "text/plain": [
       "-1"
      ]
     },
     "execution_count": 12,
     "metadata": {},
     "output_type": "execute_result"
    }
   ],
   "source": [
    "cv2.imshow('Orijinal', image)\n",
    "cv2.waitKey(0)\n",
    "cv2.destroyAllWindows()\n",
    "\n",
    "cv2.imshow('8 Bit', img8)\n",
    "cv2.waitKey(0)\n",
    "cv2.destroyAllWindows()\n",
    "\n",
    "cv2.imshow('16 Bit', img16)\n",
    "cv2.waitKey(0)\n",
    "cv2.destroyAllWindows()\n",
    "\n",
    "cv2.waitKey(1)"
   ]
  }
 ],
 "metadata": {
  "kernelspec": {
   "display_name": "Python 3 (ipykernel)",
   "language": "python",
   "name": "python3"
  },
  "language_info": {
   "codemirror_mode": {
    "name": "ipython",
    "version": 3
   },
   "file_extension": ".py",
   "mimetype": "text/x-python",
   "name": "python",
   "nbconvert_exporter": "python",
   "pygments_lexer": "ipython3",
   "version": "3.9.7"
  }
 },
 "nbformat": 4,
 "nbformat_minor": 5
}
