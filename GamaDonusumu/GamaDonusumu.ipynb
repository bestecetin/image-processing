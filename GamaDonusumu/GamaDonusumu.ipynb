{
 "cells": [
  {
   "cell_type": "markdown",
   "id": "48f3c9d5",
   "metadata": {},
   "source": [
    "### GAMA DONUSUMU"
   ]
  },
  {
   "cell_type": "markdown",
   "id": "ae8c67e2",
   "metadata": {},
   "source": [
    "- s=cr^y"
   ]
  },
  {
   "cell_type": "code",
   "execution_count": 1,
   "id": "15532d68",
   "metadata": {},
   "outputs": [],
   "source": [
    "import numpy as np\n",
    "import pathlib\n",
    "from pathlib import Path\n",
    "import cv2"
   ]
  },
  {
   "cell_type": "code",
   "execution_count": 3,
   "id": "aa517fc0",
   "metadata": {},
   "outputs": [],
   "source": [
    "path = str(Path(pathlib.Path().absolute()).parents[0])\n",
    "path+=\"/GamaDonusumu\""
   ]
  },
  {
   "cell_type": "code",
   "execution_count": 4,
   "id": "8ee22d7e",
   "metadata": {},
   "outputs": [],
   "source": [
    "image = cv2.imread(path+'/foto.webp')"
   ]
  },
  {
   "cell_type": "code",
   "execution_count": 5,
   "id": "535b50a0",
   "metadata": {},
   "outputs": [
    {
     "data": {
      "text/plain": [
       "-1"
      ]
     },
     "execution_count": 5,
     "metadata": {},
     "output_type": "execute_result"
    }
   ],
   "source": [
    "cv2.imshow('Orijinal', image)\n",
    "cv2.waitKey(0)\n",
    "cv2.destroyAllWindows()\n",
    "cv2.waitKey(1)"
   ]
  },
  {
   "cell_type": "code",
   "execution_count": 6,
   "id": "81ceafe4",
   "metadata": {},
   "outputs": [],
   "source": [
    "for gamma in [3.0, 4.0, 5.0]:\n",
    "    gamma_image = np.array(255 * (image / 255) ** gamma, dtype='uint8')\n",
    "    cv2.imshow('Gama Donusumu', gamma_image)\n",
    "    cv2.waitKey(0)\n",
    "    cv2.destroyAllWindows()\n",
    "    cv2.waitKey(1)"
   ]
  },
  {
   "cell_type": "code",
   "execution_count": null,
   "id": "7d846540",
   "metadata": {},
   "outputs": [],
   "source": []
  }
 ],
 "metadata": {
  "kernelspec": {
   "display_name": "Python 3 (ipykernel)",
   "language": "python",
   "name": "python3"
  },
  "language_info": {
   "codemirror_mode": {
    "name": "ipython",
    "version": 3
   },
   "file_extension": ".py",
   "mimetype": "text/x-python",
   "name": "python",
   "nbconvert_exporter": "python",
   "pygments_lexer": "ipython3",
   "version": "3.9.7"
  }
 },
 "nbformat": 4,
 "nbformat_minor": 5
}
